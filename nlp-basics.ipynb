{
 "cells": [
  {
   "cell_type": "markdown",
   "id": "1abdc987",
   "metadata": {
    "papermill": {
     "duration": 0.010571,
     "end_time": "2024-10-05T13:26:57.627645",
     "exception": false,
     "start_time": "2024-10-05T13:26:57.617074",
     "status": "completed"
    },
    "tags": []
   },
   "source": [
    "# NLP BASICS "
   ]
  },
  {
   "cell_type": "markdown",
   "id": "894b2d4b",
   "metadata": {
    "papermill": {
     "duration": 0.009693,
     "end_time": "2024-10-05T13:26:57.648160",
     "exception": false,
     "start_time": "2024-10-05T13:26:57.638467",
     "status": "completed"
    },
    "tags": []
   },
   "source": [
    "NLP Tutorial\n",
    "NLP - or Natural Language Processing - is shorthand for a wide array of techniques designed to help machines learn from text. Natural Language Processing powers everything from chatbots to search engines, and is used in diverse tasks like sentiment analysis and machine translation."
   ]
  },
  {
   "cell_type": "markdown",
   "id": "87e852f3",
   "metadata": {
    "papermill": {
     "duration": 0.009483,
     "end_time": "2024-10-05T13:26:57.667458",
     "exception": false,
     "start_time": "2024-10-05T13:26:57.657975",
     "status": "completed"
    },
    "tags": []
   },
   "source": [
    "We’ll then turn to a set of tasks collectively called text normalization, in which text\n",
    "**normalization**\n",
    "regular expressions play an important part.\n",
    "Normalizing text means converting it\n",
    "to a more convenient, standard form. For example, most of what we are going to\n",
    "do with language relies on first separating out or **tokenizing** words from running\n",
    "**tokenization** text, the task of tokenization.\n",
    "English words are often separated from each otherby whitespace, but whitespace is not always sufficient. New York and rock ’n’ rollare sometimes treated as large words despite the fact that they contain spaces, while sometimes we’ll need to separate I’m into the two words I and am. \n",
    "For processing tweets or texts we’ll need to tokenize emoticons like :) or hashtags like #nlproc."
   ]
  },
  {
   "cell_type": "markdown",
   "id": "afe04487",
   "metadata": {
    "papermill": {
     "duration": 0.009511,
     "end_time": "2024-10-05T13:26:57.686730",
     "exception": false,
     "start_time": "2024-10-05T13:26:57.677219",
     "status": "completed"
    },
    "tags": []
   },
   "source": [
    "Another part of text normalization is lemmatization, the task of determining\n",
    "that two words have the same root, despite their surface differences. For example,\n",
    "the words sang, sung, and sings are forms of the verb sing. The word sing is the\n",
    "common lemma of these words, and a lemmatizer maps from all of these to sing.\n",
    "Lemmatization is essential for processing morphologically complex languages like\n",
    "stemming Arabic. Stemming refers to a simpler version of lemmatization in which we mainly\n",
    "just strip suffixes from the end of the word. Text normalization also includes sentence segmentation: breaking up a text into individual sentences, using cues like sentence\n",
    "segmentation\n",
    "periods or exclamation points."
   ]
  },
  {
   "cell_type": "code",
   "execution_count": null,
   "id": "01576e07",
   "metadata": {
    "papermill": {
     "duration": 0.010583,
     "end_time": "2024-10-05T13:26:57.707246",
     "exception": false,
     "start_time": "2024-10-05T13:26:57.696663",
     "status": "completed"
    },
    "tags": []
   },
   "outputs": [],
   "source": []
  },
  {
   "cell_type": "code",
   "execution_count": 1,
   "id": "09b49f6d",
   "metadata": {
    "_cell_guid": "b1076dfc-b9ad-4769-8c92-a6c4dae69d19",
    "_uuid": "8f2839f25d086af736a60e9eeb907d3b93b6e0e5",
    "execution": {
     "iopub.execute_input": "2024-10-05T13:26:57.729716Z",
     "iopub.status.busy": "2024-10-05T13:26:57.729158Z",
     "iopub.status.idle": "2024-10-05T13:26:58.800823Z",
     "shell.execute_reply": "2024-10-05T13:26:58.799563Z"
    },
    "papermill": {
     "duration": 1.086469,
     "end_time": "2024-10-05T13:26:58.804095",
     "exception": false,
     "start_time": "2024-10-05T13:26:57.717626",
     "status": "completed"
    },
    "tags": []
   },
   "outputs": [
    {
     "name": "stdout",
     "output_type": "stream",
     "text": [
      "/kaggle/input/nlp-getting-started/sample_submission.csv\n",
      "/kaggle/input/nlp-getting-started/train.csv\n",
      "/kaggle/input/nlp-getting-started/test.csv\n"
     ]
    }
   ],
   "source": [
    "\n",
    "import numpy as np # linear algebra\n",
    "import pandas as pd # data processing, CSV file I/O (e.g. pd.read_csv)\n",
    "\n",
    "\n",
    "import os\n",
    "for dirname, _, filenames in os.walk('/kaggle/input'):\n",
    "    for filename in filenames:\n",
    "        print(os.path.join(dirname, filename))\n",
    "\n"
   ]
  },
  {
   "cell_type": "code",
   "execution_count": 2,
   "id": "b6522981",
   "metadata": {
    "execution": {
     "iopub.execute_input": "2024-10-05T13:26:58.826529Z",
     "iopub.status.busy": "2024-10-05T13:26:58.825834Z",
     "iopub.status.idle": "2024-10-05T13:26:58.832320Z",
     "shell.execute_reply": "2024-10-05T13:26:58.831027Z"
    },
    "papermill": {
     "duration": 0.021347,
     "end_time": "2024-10-05T13:26:58.835434",
     "exception": false,
     "start_time": "2024-10-05T13:26:58.814087",
     "status": "completed"
    },
    "tags": []
   },
   "outputs": [],
   "source": [
    "pd.set_option('display.max_colwidth', None)"
   ]
  },
  {
   "cell_type": "code",
   "execution_count": 3,
   "id": "64779a7c",
   "metadata": {
    "execution": {
     "iopub.execute_input": "2024-10-05T13:26:58.857745Z",
     "iopub.status.busy": "2024-10-05T13:26:58.856684Z",
     "iopub.status.idle": "2024-10-05T13:26:58.954603Z",
     "shell.execute_reply": "2024-10-05T13:26:58.952894Z"
    },
    "papermill": {
     "duration": 0.112048,
     "end_time": "2024-10-05T13:26:58.957355",
     "exception": false,
     "start_time": "2024-10-05T13:26:58.845307",
     "status": "completed"
    },
    "tags": []
   },
   "outputs": [
    {
     "data": {
      "text/html": [
       "<div>\n",
       "<style scoped>\n",
       "    .dataframe tbody tr th:only-of-type {\n",
       "        vertical-align: middle;\n",
       "    }\n",
       "\n",
       "    .dataframe tbody tr th {\n",
       "        vertical-align: top;\n",
       "    }\n",
       "\n",
       "    .dataframe thead th {\n",
       "        text-align: right;\n",
       "    }\n",
       "</style>\n",
       "<table border=\"1\" class=\"dataframe\">\n",
       "  <thead>\n",
       "    <tr style=\"text-align: right;\">\n",
       "      <th></th>\n",
       "      <th>id</th>\n",
       "      <th>keyword</th>\n",
       "      <th>location</th>\n",
       "      <th>text</th>\n",
       "      <th>target</th>\n",
       "    </tr>\n",
       "  </thead>\n",
       "  <tbody>\n",
       "    <tr>\n",
       "      <th>7601</th>\n",
       "      <td>10859</td>\n",
       "      <td>NaN</td>\n",
       "      <td>NaN</td>\n",
       "      <td>#breaking #LA Refugio oil spill may have been costlier bigger than projected http://t.co/5ueCmcv2Pk</td>\n",
       "      <td>1</td>\n",
       "    </tr>\n",
       "    <tr>\n",
       "      <th>7602</th>\n",
       "      <td>10860</td>\n",
       "      <td>NaN</td>\n",
       "      <td>NaN</td>\n",
       "      <td>a siren just went off and it wasn't the Forney tornado warning ??</td>\n",
       "      <td>1</td>\n",
       "    </tr>\n",
       "    <tr>\n",
       "      <th>7603</th>\n",
       "      <td>10862</td>\n",
       "      <td>NaN</td>\n",
       "      <td>NaN</td>\n",
       "      <td>Officials say a quarantine is in place at an Alabama home over a possible Ebola case after developing symptoms... http://t.co/rqKK15uhEY</td>\n",
       "      <td>1</td>\n",
       "    </tr>\n",
       "    <tr>\n",
       "      <th>7604</th>\n",
       "      <td>10863</td>\n",
       "      <td>NaN</td>\n",
       "      <td>NaN</td>\n",
       "      <td>#WorldNews Fallen powerlines on G:link tram: UPDATE: FIRE crews have evacuated up to 30 passengers who were tr... http://t.co/EYSVvzA7Qm</td>\n",
       "      <td>1</td>\n",
       "    </tr>\n",
       "    <tr>\n",
       "      <th>7605</th>\n",
       "      <td>10864</td>\n",
       "      <td>NaN</td>\n",
       "      <td>NaN</td>\n",
       "      <td>on the flip side I'm at Walmart and there is a bomb and everyone had to evacuate so stay tuned if I blow up or not</td>\n",
       "      <td>1</td>\n",
       "    </tr>\n",
       "    <tr>\n",
       "      <th>7606</th>\n",
       "      <td>10866</td>\n",
       "      <td>NaN</td>\n",
       "      <td>NaN</td>\n",
       "      <td>Suicide bomber kills 15 in Saudi security site mosque - Reuters via World - Google News - Wall ... http://t.co/nF4IculOje</td>\n",
       "      <td>1</td>\n",
       "    </tr>\n",
       "    <tr>\n",
       "      <th>7607</th>\n",
       "      <td>10867</td>\n",
       "      <td>NaN</td>\n",
       "      <td>NaN</td>\n",
       "      <td>#stormchase Violent Record Breaking EF-5 El Reno Oklahoma Tornado Nearly Runs Over ... - http://t.co/3SICroAaNz http://t.co/I27Oa0HISp</td>\n",
       "      <td>1</td>\n",
       "    </tr>\n",
       "    <tr>\n",
       "      <th>7608</th>\n",
       "      <td>10869</td>\n",
       "      <td>NaN</td>\n",
       "      <td>NaN</td>\n",
       "      <td>Two giant cranes holding a bridge collapse into nearby homes http://t.co/STfMbbZFB5</td>\n",
       "      <td>1</td>\n",
       "    </tr>\n",
       "    <tr>\n",
       "      <th>7609</th>\n",
       "      <td>10870</td>\n",
       "      <td>NaN</td>\n",
       "      <td>NaN</td>\n",
       "      <td>@aria_ahrary @TheTawniest The out of control wild fires in California even in the Northern part of the state. Very troubling.</td>\n",
       "      <td>1</td>\n",
       "    </tr>\n",
       "    <tr>\n",
       "      <th>7610</th>\n",
       "      <td>10871</td>\n",
       "      <td>NaN</td>\n",
       "      <td>NaN</td>\n",
       "      <td>M1.94 [01:04 UTC]?5km S of Volcano Hawaii. http://t.co/zDtoyd8EbJ</td>\n",
       "      <td>1</td>\n",
       "    </tr>\n",
       "    <tr>\n",
       "      <th>7611</th>\n",
       "      <td>10872</td>\n",
       "      <td>NaN</td>\n",
       "      <td>NaN</td>\n",
       "      <td>Police investigating after an e-bike collided with a car in Little Portugal. E-bike rider suffered serious non-life threatening injuries.</td>\n",
       "      <td>1</td>\n",
       "    </tr>\n",
       "    <tr>\n",
       "      <th>7612</th>\n",
       "      <td>10873</td>\n",
       "      <td>NaN</td>\n",
       "      <td>NaN</td>\n",
       "      <td>The Latest: More Homes Razed by Northern California Wildfire - ABC News http://t.co/YmY4rSkQ3d</td>\n",
       "      <td>1</td>\n",
       "    </tr>\n",
       "  </tbody>\n",
       "</table>\n",
       "</div>"
      ],
      "text/plain": [
       "         id keyword location  \\\n",
       "7601  10859     NaN      NaN   \n",
       "7602  10860     NaN      NaN   \n",
       "7603  10862     NaN      NaN   \n",
       "7604  10863     NaN      NaN   \n",
       "7605  10864     NaN      NaN   \n",
       "7606  10866     NaN      NaN   \n",
       "7607  10867     NaN      NaN   \n",
       "7608  10869     NaN      NaN   \n",
       "7609  10870     NaN      NaN   \n",
       "7610  10871     NaN      NaN   \n",
       "7611  10872     NaN      NaN   \n",
       "7612  10873     NaN      NaN   \n",
       "\n",
       "                                                                                                                                           text  \\\n",
       "7601                                        #breaking #LA Refugio oil spill may have been costlier bigger than projected http://t.co/5ueCmcv2Pk   \n",
       "7602                                                                          a siren just went off and it wasn't the Forney tornado warning ??   \n",
       "7603   Officials say a quarantine is in place at an Alabama home over a possible Ebola case after developing symptoms... http://t.co/rqKK15uhEY   \n",
       "7604   #WorldNews Fallen powerlines on G:link tram: UPDATE: FIRE crews have evacuated up to 30 passengers who were tr... http://t.co/EYSVvzA7Qm   \n",
       "7605                         on the flip side I'm at Walmart and there is a bomb and everyone had to evacuate so stay tuned if I blow up or not   \n",
       "7606                  Suicide bomber kills 15 in Saudi security site mosque - Reuters via World - Google News - Wall ... http://t.co/nF4IculOje   \n",
       "7607     #stormchase Violent Record Breaking EF-5 El Reno Oklahoma Tornado Nearly Runs Over ... - http://t.co/3SICroAaNz http://t.co/I27Oa0HISp   \n",
       "7608                                                        Two giant cranes holding a bridge collapse into nearby homes http://t.co/STfMbbZFB5   \n",
       "7609              @aria_ahrary @TheTawniest The out of control wild fires in California even in the Northern part of the state. Very troubling.   \n",
       "7610                                                                          M1.94 [01:04 UTC]?5km S of Volcano Hawaii. http://t.co/zDtoyd8EbJ   \n",
       "7611  Police investigating after an e-bike collided with a car in Little Portugal. E-bike rider suffered serious non-life threatening injuries.   \n",
       "7612                                             The Latest: More Homes Razed by Northern California Wildfire - ABC News http://t.co/YmY4rSkQ3d   \n",
       "\n",
       "      target  \n",
       "7601       1  \n",
       "7602       1  \n",
       "7603       1  \n",
       "7604       1  \n",
       "7605       1  \n",
       "7606       1  \n",
       "7607       1  \n",
       "7608       1  \n",
       "7609       1  \n",
       "7610       1  \n",
       "7611       1  \n",
       "7612       1  "
      ]
     },
     "execution_count": 3,
     "metadata": {},
     "output_type": "execute_result"
    }
   ],
   "source": [
    "train_df = pd.read_csv(\"/kaggle/input/nlp-getting-started/train.csv\")\n",
    "test_df = pd.read_csv(\"/kaggle/input/nlp-getting-started/test.csv\")\n",
    "train_df.tail(12)\n"
   ]
  },
  {
   "cell_type": "code",
   "execution_count": 4,
   "id": "4a4d6cda",
   "metadata": {
    "execution": {
     "iopub.execute_input": "2024-10-05T13:26:58.979406Z",
     "iopub.status.busy": "2024-10-05T13:26:58.978971Z",
     "iopub.status.idle": "2024-10-05T13:26:59.002782Z",
     "shell.execute_reply": "2024-10-05T13:26:59.001468Z"
    },
    "papermill": {
     "duration": 0.038438,
     "end_time": "2024-10-05T13:26:59.005877",
     "exception": false,
     "start_time": "2024-10-05T13:26:58.967439",
     "status": "completed"
    },
    "tags": []
   },
   "outputs": [
    {
     "data": {
      "text/html": [
       "<div>\n",
       "<style scoped>\n",
       "    .dataframe tbody tr th:only-of-type {\n",
       "        vertical-align: middle;\n",
       "    }\n",
       "\n",
       "    .dataframe tbody tr th {\n",
       "        vertical-align: top;\n",
       "    }\n",
       "\n",
       "    .dataframe thead th {\n",
       "        text-align: right;\n",
       "    }\n",
       "</style>\n",
       "<table border=\"1\" class=\"dataframe\">\n",
       "  <thead>\n",
       "    <tr style=\"text-align: right;\">\n",
       "      <th></th>\n",
       "      <th>id</th>\n",
       "      <th>keyword</th>\n",
       "      <th>location</th>\n",
       "      <th>text</th>\n",
       "      <th>target</th>\n",
       "    </tr>\n",
       "  </thead>\n",
       "  <tbody>\n",
       "    <tr>\n",
       "      <th>2644</th>\n",
       "      <td>3796</td>\n",
       "      <td>destruction</td>\n",
       "      <td>NaN</td>\n",
       "      <td>So you have a new weapon that can cause un-imaginable destruction.</td>\n",
       "      <td>1</td>\n",
       "    </tr>\n",
       "    <tr>\n",
       "      <th>2227</th>\n",
       "      <td>3185</td>\n",
       "      <td>deluge</td>\n",
       "      <td>NaN</td>\n",
       "      <td>The f$&amp;amp;@ing things I do for #GISHWHES Just got soaked in a deluge going for pads and tampons. Thx @mishacollins @/@</td>\n",
       "      <td>0</td>\n",
       "    </tr>\n",
       "    <tr>\n",
       "      <th>5448</th>\n",
       "      <td>7769</td>\n",
       "      <td>police</td>\n",
       "      <td>UK</td>\n",
       "      <td>DT @georgegalloway: RT @Galloway4Mayor: ÛÏThe CoL police can catch a pickpocket in Liverpool Stree... http://t.co/vXIn1gOq4Q</td>\n",
       "      <td>1</td>\n",
       "    </tr>\n",
       "    <tr>\n",
       "      <th>132</th>\n",
       "      <td>191</td>\n",
       "      <td>aftershock</td>\n",
       "      <td>NaN</td>\n",
       "      <td>Aftershock back to school kick off was great. I want to thank everyone for making it possible. What a great night.</td>\n",
       "      <td>0</td>\n",
       "    </tr>\n",
       "    <tr>\n",
       "      <th>6845</th>\n",
       "      <td>9810</td>\n",
       "      <td>trauma</td>\n",
       "      <td>Montgomery County, MD</td>\n",
       "      <td>in response to trauma Children of Addicts develop a defensive self - one that decreases vulnerability. (3</td>\n",
       "      <td>0</td>\n",
       "    </tr>\n",
       "  </tbody>\n",
       "</table>\n",
       "</div>"
      ],
      "text/plain": [
       "        id      keyword               location  \\\n",
       "2644  3796  destruction                    NaN   \n",
       "2227  3185       deluge                    NaN   \n",
       "5448  7769       police                     UK   \n",
       "132    191   aftershock                    NaN   \n",
       "6845  9810       trauma  Montgomery County, MD   \n",
       "\n",
       "                                                                                                                               text  \\\n",
       "2644                                                             So you have a new weapon that can cause un-imaginable destruction.   \n",
       "2227        The f$&amp;@ing things I do for #GISHWHES Just got soaked in a deluge going for pads and tampons. Thx @mishacollins @/@   \n",
       "5448  DT @georgegalloway: RT @Galloway4Mayor: ÛÏThe CoL police can catch a pickpocket in Liverpool Stree... http://t.co/vXIn1gOq4Q   \n",
       "132              Aftershock back to school kick off was great. I want to thank everyone for making it possible. What a great night.   \n",
       "6845                      in response to trauma Children of Addicts develop a defensive self - one that decreases vulnerability. (3   \n",
       "\n",
       "      target  \n",
       "2644       1  \n",
       "2227       0  \n",
       "5448       1  \n",
       "132        0  \n",
       "6845       0  "
      ]
     },
     "execution_count": 4,
     "metadata": {},
     "output_type": "execute_result"
    }
   ],
   "source": [
    "# Shuffle training dataframe\n",
    "train_df_shuffled = train_df.sample(frac=1, random_state=42) \n",
    "train_df_shuffled.head()"
   ]
  },
  {
   "cell_type": "markdown",
   "id": "723f352c",
   "metadata": {
    "papermill": {
     "duration": 0.010638,
     "end_time": "2024-10-05T13:26:59.029231",
     "exception": false,
     "start_time": "2024-10-05T13:26:59.018593",
     "status": "completed"
    },
    "tags": []
   },
   "source": [
    "let's see the class distribution "
   ]
  },
  {
   "cell_type": "code",
   "execution_count": 5,
   "id": "808d2bd8",
   "metadata": {
    "execution": {
     "iopub.execute_input": "2024-10-05T13:26:59.057036Z",
     "iopub.status.busy": "2024-10-05T13:26:59.055370Z",
     "iopub.status.idle": "2024-10-05T13:26:59.078668Z",
     "shell.execute_reply": "2024-10-05T13:26:59.075911Z"
    },
    "papermill": {
     "duration": 0.039761,
     "end_time": "2024-10-05T13:26:59.081923",
     "exception": false,
     "start_time": "2024-10-05T13:26:59.042162",
     "status": "completed"
    },
    "tags": []
   },
   "outputs": [
    {
     "data": {
      "text/plain": [
       "target\n",
       "0    4342\n",
       "1    3271\n",
       "Name: count, dtype: int64"
      ]
     },
     "execution_count": 5,
     "metadata": {},
     "output_type": "execute_result"
    }
   ],
   "source": [
    "classdis=train_df.target\n",
    "classdis.value_counts()"
   ]
  },
  {
   "cell_type": "markdown",
   "id": "2761f762",
   "metadata": {
    "papermill": {
     "duration": 0.010184,
     "end_time": "2024-10-05T13:26:59.102785",
     "exception": false,
     "start_time": "2024-10-05T13:26:59.092601",
     "status": "completed"
    },
    "tags": []
   },
   "source": [
    "we got a good amount of distribution for both classes "
   ]
  },
  {
   "cell_type": "code",
   "execution_count": 6,
   "id": "b56971a6",
   "metadata": {
    "execution": {
     "iopub.execute_input": "2024-10-05T13:26:59.127728Z",
     "iopub.status.busy": "2024-10-05T13:26:59.126247Z",
     "iopub.status.idle": "2024-10-05T13:26:59.155251Z",
     "shell.execute_reply": "2024-10-05T13:26:59.153713Z"
    },
    "papermill": {
     "duration": 0.044226,
     "end_time": "2024-10-05T13:26:59.158146",
     "exception": false,
     "start_time": "2024-10-05T13:26:59.113920",
     "status": "completed"
    },
    "tags": []
   },
   "outputs": [
    {
     "data": {
      "text/html": [
       "<div>\n",
       "<style scoped>\n",
       "    .dataframe tbody tr th:only-of-type {\n",
       "        vertical-align: middle;\n",
       "    }\n",
       "\n",
       "    .dataframe tbody tr th {\n",
       "        vertical-align: top;\n",
       "    }\n",
       "\n",
       "    .dataframe thead th {\n",
       "        text-align: right;\n",
       "    }\n",
       "</style>\n",
       "<table border=\"1\" class=\"dataframe\">\n",
       "  <thead>\n",
       "    <tr style=\"text-align: right;\">\n",
       "      <th></th>\n",
       "      <th>id</th>\n",
       "      <th>target</th>\n",
       "    </tr>\n",
       "  </thead>\n",
       "  <tbody>\n",
       "    <tr>\n",
       "      <th>count</th>\n",
       "      <td>7613.000000</td>\n",
       "      <td>7613.00000</td>\n",
       "    </tr>\n",
       "    <tr>\n",
       "      <th>mean</th>\n",
       "      <td>5441.934848</td>\n",
       "      <td>0.42966</td>\n",
       "    </tr>\n",
       "    <tr>\n",
       "      <th>std</th>\n",
       "      <td>3137.116090</td>\n",
       "      <td>0.49506</td>\n",
       "    </tr>\n",
       "    <tr>\n",
       "      <th>min</th>\n",
       "      <td>1.000000</td>\n",
       "      <td>0.00000</td>\n",
       "    </tr>\n",
       "    <tr>\n",
       "      <th>25%</th>\n",
       "      <td>2734.000000</td>\n",
       "      <td>0.00000</td>\n",
       "    </tr>\n",
       "    <tr>\n",
       "      <th>50%</th>\n",
       "      <td>5408.000000</td>\n",
       "      <td>0.00000</td>\n",
       "    </tr>\n",
       "    <tr>\n",
       "      <th>75%</th>\n",
       "      <td>8146.000000</td>\n",
       "      <td>1.00000</td>\n",
       "    </tr>\n",
       "    <tr>\n",
       "      <th>max</th>\n",
       "      <td>10873.000000</td>\n",
       "      <td>1.00000</td>\n",
       "    </tr>\n",
       "  </tbody>\n",
       "</table>\n",
       "</div>"
      ],
      "text/plain": [
       "                 id      target\n",
       "count   7613.000000  7613.00000\n",
       "mean    5441.934848     0.42966\n",
       "std     3137.116090     0.49506\n",
       "min        1.000000     0.00000\n",
       "25%     2734.000000     0.00000\n",
       "50%     5408.000000     0.00000\n",
       "75%     8146.000000     1.00000\n",
       "max    10873.000000     1.00000"
      ]
     },
     "execution_count": 6,
     "metadata": {},
     "output_type": "execute_result"
    }
   ],
   "source": [
    "train_df.describe()"
   ]
  },
  {
   "cell_type": "markdown",
   "id": "de53d3ca",
   "metadata": {
    "papermill": {
     "duration": 0.0107,
     "end_time": "2024-10-05T13:26:59.180086",
     "exception": false,
     "start_time": "2024-10-05T13:26:59.169386",
     "status": "completed"
    },
    "tags": []
   },
   "source": [
    "lets return some characteristics of text length for all the rows using anonymous(lambda) fuction "
   ]
  },
  {
   "cell_type": "code",
   "execution_count": 7,
   "id": "782f0908",
   "metadata": {
    "execution": {
     "iopub.execute_input": "2024-10-05T13:26:59.204175Z",
     "iopub.status.busy": "2024-10-05T13:26:59.203725Z",
     "iopub.status.idle": "2024-10-05T13:26:59.232203Z",
     "shell.execute_reply": "2024-10-05T13:26:59.230409Z"
    },
    "papermill": {
     "duration": 0.044321,
     "end_time": "2024-10-05T13:26:59.235332",
     "exception": false,
     "start_time": "2024-10-05T13:26:59.191011",
     "status": "completed"
    },
    "tags": []
   },
   "outputs": [
    {
     "name": "stdout",
     "output_type": "stream",
     "text": [
      "training data characteristics\n",
      "count    7613.000000\n",
      "mean      101.037436\n",
      "std        33.781325\n",
      "min         7.000000\n",
      "25%        78.000000\n",
      "50%       107.000000\n",
      "75%       133.000000\n",
      "max       157.000000\n",
      "Name: length, dtype: float64\n",
      "testing data characteristics\n",
      "count    3263.000000\n",
      "mean      102.108183\n",
      "std        33.972158\n",
      "min         5.000000\n",
      "25%        78.000000\n",
      "50%       109.000000\n",
      "75%       134.000000\n",
      "max       151.000000\n",
      "Name: length, dtype: float64\n"
     ]
    }
   ],
   "source": [
    "train_df[\"length\"]= train_df[\"text\"].apply(lambda x:len(x))\n",
    "test_df[\"length\"]=test_df[\"text\"].apply(lambda x:len(x))\\\n",
    "\n",
    "print(\"training data characteristics\")\n",
    "print(train_df[\"length\"].describe())\n",
    "\n",
    "print(\"testing data characteristics\")\n",
    "print(test_df[\"length\"].describe())\n",
    "\n"
   ]
  },
  {
   "cell_type": "markdown",
   "id": "11675301",
   "metadata": {
    "papermill": {
     "duration": 0.010543,
     "end_time": "2024-10-05T13:26:59.256925",
     "exception": false,
     "start_time": "2024-10-05T13:26:59.246382",
     "status": "completed"
    },
    "tags": []
   },
   "source": [
    "let's look at some random training examples"
   ]
  },
  {
   "cell_type": "code",
   "execution_count": 8,
   "id": "2126a82c",
   "metadata": {
    "execution": {
     "iopub.execute_input": "2024-10-05T13:26:59.281340Z",
     "iopub.status.busy": "2024-10-05T13:26:59.280821Z",
     "iopub.status.idle": "2024-10-05T13:26:59.289955Z",
     "shell.execute_reply": "2024-10-05T13:26:59.288499Z"
    },
    "papermill": {
     "duration": 0.02558,
     "end_time": "2024-10-05T13:26:59.293316",
     "exception": false,
     "start_time": "2024-10-05T13:26:59.267736",
     "status": "completed"
    },
    "tags": []
   },
   "outputs": [
    {
     "name": "stdout",
     "output_type": "stream",
     "text": [
      "Text:7603     Officials say a quarantine is in place at an Alabama home over a possible Ebola case after developing symptoms... http://t.co/rqKK15uhEY\n",
      "7604     #WorldNews Fallen powerlines on G:link tram: UPDATE: FIRE crews have evacuated up to 30 passengers who were tr... http://t.co/EYSVvzA7Qm\n",
      "7605                           on the flip side I'm at Walmart and there is a bomb and everyone had to evacuate so stay tuned if I blow up or not\n",
      "7606                    Suicide bomber kills 15 in Saudi security site mosque - Reuters via World - Google News - Wall ... http://t.co/nF4IculOje\n",
      "7607       #stormchase Violent Record Breaking EF-5 El Reno Oklahoma Tornado Nearly Runs Over ... - http://t.co/3SICroAaNz http://t.co/I27Oa0HISp\n",
      "7608                                                          Two giant cranes holding a bridge collapse into nearby homes http://t.co/STfMbbZFB5\n",
      "7609                @aria_ahrary @TheTawniest The out of control wild fires in California even in the Northern part of the state. Very troubling.\n",
      "7610                                                                            M1.94 [01:04 UTC]?5km S of Volcano Hawaii. http://t.co/zDtoyd8EbJ\n",
      "7611    Police investigating after an e-bike collided with a car in Little Portugal. E-bike rider suffered serious non-life threatening injuries.\n",
      "7612                                               The Latest: More Homes Razed by Northern California Wildfire - ABC News http://t.co/YmY4rSkQ3d\n",
      "Name: text, dtype: object Target:7603    1\n",
      "7604    1\n",
      "7605    1\n",
      "7606    1\n",
      "7607    1\n",
      "7608    1\n",
      "7609    1\n",
      "7610    1\n",
      "7611    1\n",
      "7612    1\n",
      "Name: target, dtype: int64\n"
     ]
    }
   ],
   "source": [
    "print(f\"Text:{train_df['text'].tail(10)}\",f\"Target:{train_df['target'].tail(10)}\")"
   ]
  },
  {
   "cell_type": "markdown",
   "id": "0b9085a4",
   "metadata": {
    "papermill": {
     "duration": 0.011938,
     "end_time": "2024-10-05T13:26:59.317707",
     "exception": false,
     "start_time": "2024-10-05T13:26:59.305769",
     "status": "completed"
    },
    "tags": []
   },
   "source": [
    "**split data into training and validation set**\n",
    "so we can check our model performance while training on training set and as test set doesn't have labels thus we need to make a vallidation set\n"
   ]
  },
  {
   "cell_type": "code",
   "execution_count": 9,
   "id": "368cd2e4",
   "metadata": {
    "execution": {
     "iopub.execute_input": "2024-10-05T13:26:59.343952Z",
     "iopub.status.busy": "2024-10-05T13:26:59.342933Z",
     "iopub.status.idle": "2024-10-05T13:27:01.155561Z",
     "shell.execute_reply": "2024-10-05T13:27:01.153530Z"
    },
    "papermill": {
     "duration": 1.831927,
     "end_time": "2024-10-05T13:27:01.161629",
     "exception": false,
     "start_time": "2024-10-05T13:26:59.329702",
     "status": "completed"
    },
    "tags": []
   },
   "outputs": [],
   "source": [
    "from sklearn.model_selection import train_test_split \n",
    "train_sentences, val_sentences, train_labels, val_labels = train_test_split(train_df_shuffled[\"text\"].to_numpy(),\n",
    "                                                                            train_df_shuffled[\"target\"].to_numpy(),\n",
    "                                                                            test_size=0.1, \n",
    "                                                                            random_state=42)\n",
    "   "
   ]
  },
  {
   "cell_type": "code",
   "execution_count": 10,
   "id": "099a6602",
   "metadata": {
    "execution": {
     "iopub.execute_input": "2024-10-05T13:27:01.198422Z",
     "iopub.status.busy": "2024-10-05T13:27:01.197034Z",
     "iopub.status.idle": "2024-10-05T13:27:01.209436Z",
     "shell.execute_reply": "2024-10-05T13:27:01.208035Z"
    },
    "papermill": {
     "duration": 0.034496,
     "end_time": "2024-10-05T13:27:01.212743",
     "exception": false,
     "start_time": "2024-10-05T13:27:01.178247",
     "status": "completed"
    },
    "tags": []
   },
   "outputs": [
    {
     "data": {
      "text/plain": [
       "(6851, 762)"
      ]
     },
     "execution_count": 10,
     "metadata": {},
     "output_type": "execute_result"
    }
   ],
   "source": [
    "len(train_sentences),len(val_labels)"
   ]
  },
  {
   "cell_type": "markdown",
   "id": "c5589983",
   "metadata": {
    "papermill": {
     "duration": 0.018237,
     "end_time": "2024-10-05T13:27:01.248650",
     "exception": false,
     "start_time": "2024-10-05T13:27:01.230413",
     "status": "completed"
    },
    "tags": []
   },
   "source": [
    "# Data preprocessing- Converting text into numbers\n",
    "When dealing with a text problem, one of the first things you'll have to do before you can build a model is to convert your text to numbers.\n",
    "\n",
    "There are a few ways to do this, namely:\n",
    "\n",
    "Tokenziation - direct mapping of token (a token could be a word or a character) to number\n",
    "Embedding - create a matrix of feature vector for each token (the size of the feature vector can be defined and this embedding can be learned)"
   ]
  },
  {
   "cell_type": "markdown",
   "id": "e37d3682",
   "metadata": {
    "papermill": {
     "duration": 0.013943,
     "end_time": "2024-10-05T13:27:01.280886",
     "exception": false,
     "start_time": "2024-10-05T13:27:01.266943",
     "status": "completed"
    },
    "tags": []
   },
   "source": [
    "**Text vectorization**"
   ]
  },
  {
   "cell_type": "code",
   "execution_count": 11,
   "id": "ca259a8c",
   "metadata": {
    "execution": {
     "iopub.execute_input": "2024-10-05T13:27:01.315788Z",
     "iopub.status.busy": "2024-10-05T13:27:01.315277Z",
     "iopub.status.idle": "2024-10-05T13:27:18.043918Z",
     "shell.execute_reply": "2024-10-05T13:27:18.042280Z"
    },
    "papermill": {
     "duration": 16.746663,
     "end_time": "2024-10-05T13:27:18.046914",
     "exception": false,
     "start_time": "2024-10-05T13:27:01.300251",
     "status": "completed"
    },
    "tags": []
   },
   "outputs": [],
   "source": [
    "import tensorflow as tf\n",
    "from tensorflow.keras.layers import TextVectorization\n",
    "\n",
    "# Initialize the TextVectorization layer with corrected parameters\n",
    "text_vectorizer = TextVectorization(\n",
    "    max_tokens=None,  # Maximum size of the vocabulary (None means no limit)\n",
    "    standardize=\"lower_and_strip_punctuation\",  # Standardization method as a string\n",
    "    split=\"whitespace\",  # Tokenize based on whitespace\n",
    "    ngrams=None,  # No n-gram creation\n",
    "    output_mode=\"int\",  # Map tokens to integers\n",
    "    output_sequence_length=None  # Length of the output sequences (None means variable length)\n",
    ")\n"
   ]
  },
  {
   "cell_type": "markdown",
   "id": "ae3c9c67",
   "metadata": {
    "papermill": {
     "duration": 0.011687,
     "end_time": "2024-10-05T13:27:18.070720",
     "exception": false,
     "start_time": "2024-10-05T13:27:18.059033",
     "status": "completed"
    },
    "tags": []
   },
   "source": [
    "It's often beneficial to set this to a specific number (e.g., max_tokens=10000) to limit the vocabulary size, which can help with model performance and prevent overfitting."
   ]
  },
  {
   "cell_type": "code",
   "execution_count": 12,
   "id": "8cedf6d9",
   "metadata": {
    "execution": {
     "iopub.execute_input": "2024-10-05T13:27:18.095428Z",
     "iopub.status.busy": "2024-10-05T13:27:18.094712Z",
     "iopub.status.idle": "2024-10-05T13:27:18.110308Z",
     "shell.execute_reply": "2024-10-05T13:27:18.108409Z"
    },
    "papermill": {
     "duration": 0.033864,
     "end_time": "2024-10-05T13:27:18.115905",
     "exception": false,
     "start_time": "2024-10-05T13:27:18.082041",
     "status": "completed"
    },
    "tags": []
   },
   "outputs": [],
   "source": [
    "# Setup text vectorization variables\n",
    "max_vocab_length = 10000 # max number of words to have in our vocabulary\n",
    "max_length = 15 # max length our sequences will be (e.g. how many words from a Tweet does a model see?)\n",
    "\n",
    "text_vectorizer = TextVectorization(max_tokens=max_vocab_length,\n",
    "                                    output_mode=\"int\",\n",
    "                                    output_sequence_length=max_length)\n",
    "     "
   ]
  },
  {
   "cell_type": "code",
   "execution_count": 13,
   "id": "adbeabf2",
   "metadata": {
    "execution": {
     "iopub.execute_input": "2024-10-05T13:27:18.143954Z",
     "iopub.status.busy": "2024-10-05T13:27:18.143477Z",
     "iopub.status.idle": "2024-10-05T13:27:18.340579Z",
     "shell.execute_reply": "2024-10-05T13:27:18.339214Z"
    },
    "papermill": {
     "duration": 0.214508,
     "end_time": "2024-10-05T13:27:18.343855",
     "exception": false,
     "start_time": "2024-10-05T13:27:18.129347",
     "status": "completed"
    },
    "tags": []
   },
   "outputs": [],
   "source": [
    "# Fit the text vectorizer instance to the training data using the adapt() method\n",
    "text_vectorizer.adapt(train_sentences)"
   ]
  },
  {
   "cell_type": "code",
   "execution_count": 14,
   "id": "727e32ce",
   "metadata": {
    "execution": {
     "iopub.execute_input": "2024-10-05T13:27:18.369783Z",
     "iopub.status.busy": "2024-10-05T13:27:18.369219Z",
     "iopub.status.idle": "2024-10-05T13:27:18.414757Z",
     "shell.execute_reply": "2024-10-05T13:27:18.413300Z"
    },
    "papermill": {
     "duration": 0.061987,
     "end_time": "2024-10-05T13:27:18.417395",
     "exception": false,
     "start_time": "2024-10-05T13:27:18.355408",
     "status": "completed"
    },
    "tags": []
   },
   "outputs": [
    {
     "name": "stdout",
     "output_type": "stream",
     "text": [
      "Original text:\n",
      "SO THIRSTY YALL IN DANGER OF DEHYDRATION        \n",
      "\n",
      "Vectorized version:\n"
     ]
    },
    {
     "data": {
      "text/plain": [
       "<tf.Tensor: shape=(1, 15), dtype=int64, numpy=\n",
       "array([[  28, 4427, 1341,    4,  424,    6,    1,    0,    0,    0,    0,\n",
       "           0,    0,    0,    0]])>"
      ]
     },
     "execution_count": 14,
     "metadata": {},
     "output_type": "execute_result"
    }
   ],
   "source": [
    "import random\n",
    "# Choose a random sentence every time u run from the training dataset and tokenize it\n",
    "random_sentence = random.choice(train_sentences)\n",
    "print(f\"Original text:\\n{random_sentence}\\\n",
    "        \\n\\nVectorized version:\")\n",
    "text_vectorizer([random_sentence])"
   ]
  },
  {
   "cell_type": "code",
   "execution_count": 15,
   "id": "8473dcce",
   "metadata": {
    "execution": {
     "iopub.execute_input": "2024-10-05T13:27:18.443114Z",
     "iopub.status.busy": "2024-10-05T13:27:18.442581Z",
     "iopub.status.idle": "2024-10-05T13:27:18.502264Z",
     "shell.execute_reply": "2024-10-05T13:27:18.500689Z"
    },
    "papermill": {
     "duration": 0.075708,
     "end_time": "2024-10-05T13:27:18.505004",
     "exception": false,
     "start_time": "2024-10-05T13:27:18.429296",
     "status": "completed"
    },
    "tags": []
   },
   "outputs": [
    {
     "name": "stdout",
     "output_type": "stream",
     "text": [
      "Most common words in vocab: ['', '[UNK]', 'the', 'a', 'in', 'to', 'of', 'and', 'i', 'is']\n",
      "Least common words in vocab: ['painthey', 'painful', 'paine', 'paging', 'pageshi', 'pages', 'paeds', 'pads', 'padres', 'paddytomlinson1']\n"
     ]
    }
   ],
   "source": [
    "# Get the unique words in the vocabulary\n",
    "words_in_vocab = text_vectorizer.get_vocabulary()\n",
    "top_10_words = words_in_vocab[:10] # the most common words in the vocab\n",
    "bottom_10_words = words_in_vocab[-10:] # the least common words in the vocab\n",
    "print(f\"Most common words in vocab: {top_10_words}\")\n",
    "print(f\"Least common words in vocab: {bottom_10_words}\")"
   ]
  },
  {
   "cell_type": "markdown",
   "id": "14f9e232",
   "metadata": {
    "papermill": {
     "duration": 0.011296,
     "end_time": "2024-10-05T13:27:18.527592",
     "exception": false,
     "start_time": "2024-10-05T13:27:18.516296",
     "status": "completed"
    },
    "tags": []
   },
   "source": [
    "**Creating an Embedding using an Embedding Layer**"
   ]
  },
  {
   "cell_type": "code",
   "execution_count": 16,
   "id": "7f9c29ff",
   "metadata": {
    "execution": {
     "iopub.execute_input": "2024-10-05T13:27:18.552712Z",
     "iopub.status.busy": "2024-10-05T13:27:18.552049Z",
     "iopub.status.idle": "2024-10-05T13:27:18.567422Z",
     "shell.execute_reply": "2024-10-05T13:27:18.565596Z"
    },
    "papermill": {
     "duration": 0.031582,
     "end_time": "2024-10-05T13:27:18.570557",
     "exception": false,
     "start_time": "2024-10-05T13:27:18.538975",
     "status": "completed"
    },
    "tags": []
   },
   "outputs": [
    {
     "name": "stderr",
     "output_type": "stream",
     "text": [
      "/opt/conda/lib/python3.10/site-packages/keras/src/layers/core/embedding.py:90: UserWarning: Argument `input_length` is deprecated. Just remove it.\n",
      "  warnings.warn(\n"
     ]
    },
    {
     "data": {
      "text/plain": [
       "<Embedding name=embedding, built=False>"
      ]
     },
     "execution_count": 16,
     "metadata": {},
     "output_type": "execute_result"
    }
   ],
   "source": [
    "from tensorflow.keras import layers \n",
    "\n",
    "embedding = layers.Embedding(input_dim=max_vocab_length, # set the input shape\n",
    "                             output_dim=128, # set the size of the embedding vector\n",
    "                             embeddings_initializer=\"uniform\", # default, initialize embedding vectors randomly\n",
    "                             input_length=max_length # how long is each input\n",
    "                             )\n",
    "\n",
    "embedding"
   ]
  },
  {
   "cell_type": "code",
   "execution_count": 17,
   "id": "343c3a85",
   "metadata": {
    "execution": {
     "iopub.execute_input": "2024-10-05T13:27:18.597953Z",
     "iopub.status.busy": "2024-10-05T13:27:18.597453Z",
     "iopub.status.idle": "2024-10-05T13:27:18.659510Z",
     "shell.execute_reply": "2024-10-05T13:27:18.657676Z"
    },
    "papermill": {
     "duration": 0.079528,
     "end_time": "2024-10-05T13:27:18.662536",
     "exception": false,
     "start_time": "2024-10-05T13:27:18.583008",
     "status": "completed"
    },
    "tags": []
   },
   "outputs": [
    {
     "name": "stdout",
     "output_type": "stream",
     "text": [
      "Original text:\n",
      "Families to sue over Legionnaires: More than 40 families affected by the fatal outbreak of Legionnaires' disease in Edinburgh are to ...        \n",
      "\n",
      "Embedded version:\n"
     ]
    },
    {
     "data": {
      "text/plain": [
       "<tf.Tensor: shape=(1, 15, 128), dtype=float32, numpy=\n",
       "array([[[-0.03586116, -0.04973092,  0.04681419, ...,  0.01126917,\n",
       "         -0.02214358, -0.00772564],\n",
       "        [-0.01312079, -0.01696653, -0.013048  , ...,  0.01109   ,\n",
       "          0.03958761,  0.0491614 ],\n",
       "        [-0.00574598, -0.0258068 , -0.03922784, ...,  0.02445764,\n",
       "          0.02370696, -0.04942156],\n",
       "        ...,\n",
       "        [-0.00753117, -0.04410064, -0.03342881, ...,  0.02365244,\n",
       "         -0.02279207, -0.03483851],\n",
       "        [-0.01427815,  0.00024103,  0.01142838, ..., -0.03286903,\n",
       "          0.0237645 ,  0.03108316],\n",
       "        [ 0.01368507, -0.04862291,  0.03668462, ...,  0.03027088,\n",
       "          0.04652308, -0.03052937]]], dtype=float32)>"
      ]
     },
     "execution_count": 17,
     "metadata": {},
     "output_type": "execute_result"
    }
   ],
   "source": [
    "# Get a random sentence from training set\n",
    "random_sentence = random.choice(train_sentences)\n",
    "print(f\"Original text:\\n{random_sentence}\\\n",
    "        \\n\\nEmbedded version:\")\n",
    "\n",
    "# Embed the random sentence (turn it into numerical representation, aka tokenization first)\n",
    "sample_embed = embedding(text_vectorizer([random_sentence]))\n",
    "sample_embed"
   ]
  },
  {
   "cell_type": "code",
   "execution_count": null,
   "id": "3bf25786",
   "metadata": {
    "papermill": {
     "duration": 0.012855,
     "end_time": "2024-10-05T13:27:18.691026",
     "exception": false,
     "start_time": "2024-10-05T13:27:18.678171",
     "status": "completed"
    },
    "tags": []
   },
   "outputs": [],
   "source": []
  }
 ],
 "metadata": {
  "kaggle": {
   "accelerator": "none",
   "dataSources": [
    {
     "databundleVersionId": 869809,
     "sourceId": 17777,
     "sourceType": "competition"
    }
   ],
   "dockerImageVersionId": 30775,
   "isGpuEnabled": false,
   "isInternetEnabled": true,
   "language": "python",
   "sourceType": "notebook"
  },
  "kernelspec": {
   "display_name": "Python 3",
   "language": "python",
   "name": "python3"
  },
  "language_info": {
   "codemirror_mode": {
    "name": "ipython",
    "version": 3
   },
   "file_extension": ".py",
   "mimetype": "text/x-python",
   "name": "python",
   "nbconvert_exporter": "python",
   "pygments_lexer": "ipython3",
   "version": "3.10.14"
  },
  "papermill": {
   "default_parameters": {},
   "duration": 27.620159,
   "end_time": "2024-10-05T13:27:21.730599",
   "environment_variables": {},
   "exception": null,
   "input_path": "__notebook__.ipynb",
   "output_path": "__notebook__.ipynb",
   "parameters": {},
   "start_time": "2024-10-05T13:26:54.110440",
   "version": "2.6.0"
  }
 },
 "nbformat": 4,
 "nbformat_minor": 5
}
