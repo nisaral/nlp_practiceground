{
 "cells": [
  {
   "cell_type": "markdown",
   "id": "49647621",
   "metadata": {
    "papermill": {
     "duration": 0.009541,
     "end_time": "2024-10-04T18:09:36.561424",
     "exception": false,
     "start_time": "2024-10-04T18:09:36.551883",
     "status": "completed"
    },
    "tags": []
   },
   "source": [
    "# NLP BASICS "
   ]
  },
  {
   "cell_type": "markdown",
   "id": "667ae721",
   "metadata": {
    "papermill": {
     "duration": 0.008574,
     "end_time": "2024-10-04T18:09:36.579179",
     "exception": false,
     "start_time": "2024-10-04T18:09:36.570605",
     "status": "completed"
    },
    "tags": []
   },
   "source": [
    "NLP Tutorial\n",
    "NLP - or Natural Language Processing - is shorthand for a wide array of techniques designed to help machines learn from text. Natural Language Processing powers everything from chatbots to search engines, and is used in diverse tasks like sentiment analysis and machine translation."
   ]
  },
  {
   "cell_type": "markdown",
   "id": "cec672e7",
   "metadata": {
    "papermill": {
     "duration": 0.008444,
     "end_time": "2024-10-04T18:09:36.596294",
     "exception": false,
     "start_time": "2024-10-04T18:09:36.587850",
     "status": "completed"
    },
    "tags": []
   },
   "source": [
    "We’ll then turn to a set of tasks collectively called text normalization, in which text\n",
    "**normalization**\n",
    "regular expressions play an important part.\n",
    "Normalizing text means converting it\n",
    "to a more convenient, standard form. For example, most of what we are going to\n",
    "do with language relies on first separating out or **tokenizing** words from running\n",
    "**tokenization** text, the task of tokenization.\n",
    "English words are often separated from each otherby whitespace, but whitespace is not always sufficient. New York and rock ’n’ rollare sometimes treated as large words despite the fact that they contain spaces, while sometimes we’ll need to separate I’m into the two words I and am. \n",
    "For processing tweets or texts we’ll need to tokenize emoticons like :) or hashtags like #nlproc."
   ]
  },
  {
   "cell_type": "markdown",
   "id": "bf65dbde",
   "metadata": {
    "papermill": {
     "duration": 0.008376,
     "end_time": "2024-10-04T18:09:36.613492",
     "exception": false,
     "start_time": "2024-10-04T18:09:36.605116",
     "status": "completed"
    },
    "tags": []
   },
   "source": [
    "Another part of text normalization is lemmatization, the task of determining\n",
    "that two words have the same root, despite their surface differences. For example,\n",
    "the words sang, sung, and sings are forms of the verb sing. The word sing is the\n",
    "common lemma of these words, and a lemmatizer maps from all of these to sing.\n",
    "Lemmatization is essential for processing morphologically complex languages like\n",
    "stemming Arabic. Stemming refers to a simpler version of lemmatization in which we mainly\n",
    "just strip suffixes from the end of the word. Text normalization also includes sentence segmentation: breaking up a text into individual sentences, using cues like sentence\n",
    "segmentation\n",
    "periods or exclamation points."
   ]
  },
  {
   "cell_type": "code",
   "execution_count": null,
   "id": "4b4d7751",
   "metadata": {
    "papermill": {
     "duration": 0.008424,
     "end_time": "2024-10-04T18:09:36.630695",
     "exception": false,
     "start_time": "2024-10-04T18:09:36.622271",
     "status": "completed"
    },
    "tags": []
   },
   "outputs": [],
   "source": []
  },
  {
   "cell_type": "code",
   "execution_count": 1,
   "id": "5e602cb3",
   "metadata": {
    "_cell_guid": "b1076dfc-b9ad-4769-8c92-a6c4dae69d19",
    "_uuid": "8f2839f25d086af736a60e9eeb907d3b93b6e0e5",
    "execution": {
     "iopub.execute_input": "2024-10-04T18:09:36.650205Z",
     "iopub.status.busy": "2024-10-04T18:09:36.649733Z",
     "iopub.status.idle": "2024-10-04T18:09:37.635140Z",
     "shell.execute_reply": "2024-10-04T18:09:37.633851Z"
    },
    "papermill": {
     "duration": 0.998433,
     "end_time": "2024-10-04T18:09:37.637900",
     "exception": false,
     "start_time": "2024-10-04T18:09:36.639467",
     "status": "completed"
    },
    "tags": []
   },
   "outputs": [
    {
     "name": "stdout",
     "output_type": "stream",
     "text": [
      "/kaggle/input/nlp-getting-started/sample_submission.csv\n",
      "/kaggle/input/nlp-getting-started/train.csv\n",
      "/kaggle/input/nlp-getting-started/test.csv\n"
     ]
    }
   ],
   "source": [
    "\n",
    "import numpy as np # linear algebra\n",
    "import pandas as pd # data processing, CSV file I/O (e.g. pd.read_csv)\n",
    "\n",
    "\n",
    "import os\n",
    "for dirname, _, filenames in os.walk('/kaggle/input'):\n",
    "    for filename in filenames:\n",
    "        print(os.path.join(dirname, filename))\n",
    "\n"
   ]
  },
  {
   "cell_type": "code",
   "execution_count": 2,
   "id": "65298690",
   "metadata": {
    "execution": {
     "iopub.execute_input": "2024-10-04T18:09:37.658429Z",
     "iopub.status.busy": "2024-10-04T18:09:37.657855Z",
     "iopub.status.idle": "2024-10-04T18:09:37.663723Z",
     "shell.execute_reply": "2024-10-04T18:09:37.662528Z"
    },
    "papermill": {
     "duration": 0.018841,
     "end_time": "2024-10-04T18:09:37.666471",
     "exception": false,
     "start_time": "2024-10-04T18:09:37.647630",
     "status": "completed"
    },
    "tags": []
   },
   "outputs": [],
   "source": [
    "pd.set_option('display.max_colwidth', None)"
   ]
  },
  {
   "cell_type": "code",
   "execution_count": 3,
   "id": "47d110c2",
   "metadata": {
    "execution": {
     "iopub.execute_input": "2024-10-04T18:09:37.686017Z",
     "iopub.status.busy": "2024-10-04T18:09:37.685538Z",
     "iopub.status.idle": "2024-10-04T18:09:37.780841Z",
     "shell.execute_reply": "2024-10-04T18:09:37.779696Z"
    },
    "papermill": {
     "duration": 0.108299,
     "end_time": "2024-10-04T18:09:37.783567",
     "exception": false,
     "start_time": "2024-10-04T18:09:37.675268",
     "status": "completed"
    },
    "tags": []
   },
   "outputs": [
    {
     "data": {
      "text/html": [
       "<div>\n",
       "<style scoped>\n",
       "    .dataframe tbody tr th:only-of-type {\n",
       "        vertical-align: middle;\n",
       "    }\n",
       "\n",
       "    .dataframe tbody tr th {\n",
       "        vertical-align: top;\n",
       "    }\n",
       "\n",
       "    .dataframe thead th {\n",
       "        text-align: right;\n",
       "    }\n",
       "</style>\n",
       "<table border=\"1\" class=\"dataframe\">\n",
       "  <thead>\n",
       "    <tr style=\"text-align: right;\">\n",
       "      <th></th>\n",
       "      <th>id</th>\n",
       "      <th>keyword</th>\n",
       "      <th>location</th>\n",
       "      <th>text</th>\n",
       "      <th>target</th>\n",
       "    </tr>\n",
       "  </thead>\n",
       "  <tbody>\n",
       "    <tr>\n",
       "      <th>7601</th>\n",
       "      <td>10859</td>\n",
       "      <td>NaN</td>\n",
       "      <td>NaN</td>\n",
       "      <td>#breaking #LA Refugio oil spill may have been costlier bigger than projected http://t.co/5ueCmcv2Pk</td>\n",
       "      <td>1</td>\n",
       "    </tr>\n",
       "    <tr>\n",
       "      <th>7602</th>\n",
       "      <td>10860</td>\n",
       "      <td>NaN</td>\n",
       "      <td>NaN</td>\n",
       "      <td>a siren just went off and it wasn't the Forney tornado warning ??</td>\n",
       "      <td>1</td>\n",
       "    </tr>\n",
       "    <tr>\n",
       "      <th>7603</th>\n",
       "      <td>10862</td>\n",
       "      <td>NaN</td>\n",
       "      <td>NaN</td>\n",
       "      <td>Officials say a quarantine is in place at an Alabama home over a possible Ebola case after developing symptoms... http://t.co/rqKK15uhEY</td>\n",
       "      <td>1</td>\n",
       "    </tr>\n",
       "    <tr>\n",
       "      <th>7604</th>\n",
       "      <td>10863</td>\n",
       "      <td>NaN</td>\n",
       "      <td>NaN</td>\n",
       "      <td>#WorldNews Fallen powerlines on G:link tram: UPDATE: FIRE crews have evacuated up to 30 passengers who were tr... http://t.co/EYSVvzA7Qm</td>\n",
       "      <td>1</td>\n",
       "    </tr>\n",
       "    <tr>\n",
       "      <th>7605</th>\n",
       "      <td>10864</td>\n",
       "      <td>NaN</td>\n",
       "      <td>NaN</td>\n",
       "      <td>on the flip side I'm at Walmart and there is a bomb and everyone had to evacuate so stay tuned if I blow up or not</td>\n",
       "      <td>1</td>\n",
       "    </tr>\n",
       "    <tr>\n",
       "      <th>7606</th>\n",
       "      <td>10866</td>\n",
       "      <td>NaN</td>\n",
       "      <td>NaN</td>\n",
       "      <td>Suicide bomber kills 15 in Saudi security site mosque - Reuters via World - Google News - Wall ... http://t.co/nF4IculOje</td>\n",
       "      <td>1</td>\n",
       "    </tr>\n",
       "    <tr>\n",
       "      <th>7607</th>\n",
       "      <td>10867</td>\n",
       "      <td>NaN</td>\n",
       "      <td>NaN</td>\n",
       "      <td>#stormchase Violent Record Breaking EF-5 El Reno Oklahoma Tornado Nearly Runs Over ... - http://t.co/3SICroAaNz http://t.co/I27Oa0HISp</td>\n",
       "      <td>1</td>\n",
       "    </tr>\n",
       "    <tr>\n",
       "      <th>7608</th>\n",
       "      <td>10869</td>\n",
       "      <td>NaN</td>\n",
       "      <td>NaN</td>\n",
       "      <td>Two giant cranes holding a bridge collapse into nearby homes http://t.co/STfMbbZFB5</td>\n",
       "      <td>1</td>\n",
       "    </tr>\n",
       "    <tr>\n",
       "      <th>7609</th>\n",
       "      <td>10870</td>\n",
       "      <td>NaN</td>\n",
       "      <td>NaN</td>\n",
       "      <td>@aria_ahrary @TheTawniest The out of control wild fires in California even in the Northern part of the state. Very troubling.</td>\n",
       "      <td>1</td>\n",
       "    </tr>\n",
       "    <tr>\n",
       "      <th>7610</th>\n",
       "      <td>10871</td>\n",
       "      <td>NaN</td>\n",
       "      <td>NaN</td>\n",
       "      <td>M1.94 [01:04 UTC]?5km S of Volcano Hawaii. http://t.co/zDtoyd8EbJ</td>\n",
       "      <td>1</td>\n",
       "    </tr>\n",
       "    <tr>\n",
       "      <th>7611</th>\n",
       "      <td>10872</td>\n",
       "      <td>NaN</td>\n",
       "      <td>NaN</td>\n",
       "      <td>Police investigating after an e-bike collided with a car in Little Portugal. E-bike rider suffered serious non-life threatening injuries.</td>\n",
       "      <td>1</td>\n",
       "    </tr>\n",
       "    <tr>\n",
       "      <th>7612</th>\n",
       "      <td>10873</td>\n",
       "      <td>NaN</td>\n",
       "      <td>NaN</td>\n",
       "      <td>The Latest: More Homes Razed by Northern California Wildfire - ABC News http://t.co/YmY4rSkQ3d</td>\n",
       "      <td>1</td>\n",
       "    </tr>\n",
       "  </tbody>\n",
       "</table>\n",
       "</div>"
      ],
      "text/plain": [
       "         id keyword location  \\\n",
       "7601  10859     NaN      NaN   \n",
       "7602  10860     NaN      NaN   \n",
       "7603  10862     NaN      NaN   \n",
       "7604  10863     NaN      NaN   \n",
       "7605  10864     NaN      NaN   \n",
       "7606  10866     NaN      NaN   \n",
       "7607  10867     NaN      NaN   \n",
       "7608  10869     NaN      NaN   \n",
       "7609  10870     NaN      NaN   \n",
       "7610  10871     NaN      NaN   \n",
       "7611  10872     NaN      NaN   \n",
       "7612  10873     NaN      NaN   \n",
       "\n",
       "                                                                                                                                           text  \\\n",
       "7601                                        #breaking #LA Refugio oil spill may have been costlier bigger than projected http://t.co/5ueCmcv2Pk   \n",
       "7602                                                                          a siren just went off and it wasn't the Forney tornado warning ??   \n",
       "7603   Officials say a quarantine is in place at an Alabama home over a possible Ebola case after developing symptoms... http://t.co/rqKK15uhEY   \n",
       "7604   #WorldNews Fallen powerlines on G:link tram: UPDATE: FIRE crews have evacuated up to 30 passengers who were tr... http://t.co/EYSVvzA7Qm   \n",
       "7605                         on the flip side I'm at Walmart and there is a bomb and everyone had to evacuate so stay tuned if I blow up or not   \n",
       "7606                  Suicide bomber kills 15 in Saudi security site mosque - Reuters via World - Google News - Wall ... http://t.co/nF4IculOje   \n",
       "7607     #stormchase Violent Record Breaking EF-5 El Reno Oklahoma Tornado Nearly Runs Over ... - http://t.co/3SICroAaNz http://t.co/I27Oa0HISp   \n",
       "7608                                                        Two giant cranes holding a bridge collapse into nearby homes http://t.co/STfMbbZFB5   \n",
       "7609              @aria_ahrary @TheTawniest The out of control wild fires in California even in the Northern part of the state. Very troubling.   \n",
       "7610                                                                          M1.94 [01:04 UTC]?5km S of Volcano Hawaii. http://t.co/zDtoyd8EbJ   \n",
       "7611  Police investigating after an e-bike collided with a car in Little Portugal. E-bike rider suffered serious non-life threatening injuries.   \n",
       "7612                                             The Latest: More Homes Razed by Northern California Wildfire - ABC News http://t.co/YmY4rSkQ3d   \n",
       "\n",
       "      target  \n",
       "7601       1  \n",
       "7602       1  \n",
       "7603       1  \n",
       "7604       1  \n",
       "7605       1  \n",
       "7606       1  \n",
       "7607       1  \n",
       "7608       1  \n",
       "7609       1  \n",
       "7610       1  \n",
       "7611       1  \n",
       "7612       1  "
      ]
     },
     "execution_count": 3,
     "metadata": {},
     "output_type": "execute_result"
    }
   ],
   "source": [
    "train_df = pd.read_csv(\"/kaggle/input/nlp-getting-started/train.csv\")\n",
    "test_df = pd.read_csv(\"/kaggle/input/nlp-getting-started/test.csv\")\n",
    "train_df.tail(12)\n"
   ]
  },
  {
   "cell_type": "code",
   "execution_count": 4,
   "id": "b14b2dfa",
   "metadata": {
    "execution": {
     "iopub.execute_input": "2024-10-04T18:09:37.804276Z",
     "iopub.status.busy": "2024-10-04T18:09:37.803817Z",
     "iopub.status.idle": "2024-10-04T18:09:37.831344Z",
     "shell.execute_reply": "2024-10-04T18:09:37.830208Z"
    },
    "papermill": {
     "duration": 0.041274,
     "end_time": "2024-10-04T18:09:37.834190",
     "exception": false,
     "start_time": "2024-10-04T18:09:37.792916",
     "status": "completed"
    },
    "tags": []
   },
   "outputs": [
    {
     "data": {
      "text/html": [
       "<div>\n",
       "<style scoped>\n",
       "    .dataframe tbody tr th:only-of-type {\n",
       "        vertical-align: middle;\n",
       "    }\n",
       "\n",
       "    .dataframe tbody tr th {\n",
       "        vertical-align: top;\n",
       "    }\n",
       "\n",
       "    .dataframe thead th {\n",
       "        text-align: right;\n",
       "    }\n",
       "</style>\n",
       "<table border=\"1\" class=\"dataframe\">\n",
       "  <thead>\n",
       "    <tr style=\"text-align: right;\">\n",
       "      <th></th>\n",
       "      <th>id</th>\n",
       "      <th>keyword</th>\n",
       "      <th>location</th>\n",
       "      <th>text</th>\n",
       "      <th>target</th>\n",
       "    </tr>\n",
       "  </thead>\n",
       "  <tbody>\n",
       "    <tr>\n",
       "      <th>2644</th>\n",
       "      <td>3796</td>\n",
       "      <td>destruction</td>\n",
       "      <td>NaN</td>\n",
       "      <td>So you have a new weapon that can cause un-imaginable destruction.</td>\n",
       "      <td>1</td>\n",
       "    </tr>\n",
       "    <tr>\n",
       "      <th>2227</th>\n",
       "      <td>3185</td>\n",
       "      <td>deluge</td>\n",
       "      <td>NaN</td>\n",
       "      <td>The f$&amp;amp;@ing things I do for #GISHWHES Just got soaked in a deluge going for pads and tampons. Thx @mishacollins @/@</td>\n",
       "      <td>0</td>\n",
       "    </tr>\n",
       "    <tr>\n",
       "      <th>5448</th>\n",
       "      <td>7769</td>\n",
       "      <td>police</td>\n",
       "      <td>UK</td>\n",
       "      <td>DT @georgegalloway: RT @Galloway4Mayor: ÛÏThe CoL police can catch a pickpocket in Liverpool Stree... http://t.co/vXIn1gOq4Q</td>\n",
       "      <td>1</td>\n",
       "    </tr>\n",
       "    <tr>\n",
       "      <th>132</th>\n",
       "      <td>191</td>\n",
       "      <td>aftershock</td>\n",
       "      <td>NaN</td>\n",
       "      <td>Aftershock back to school kick off was great. I want to thank everyone for making it possible. What a great night.</td>\n",
       "      <td>0</td>\n",
       "    </tr>\n",
       "    <tr>\n",
       "      <th>6845</th>\n",
       "      <td>9810</td>\n",
       "      <td>trauma</td>\n",
       "      <td>Montgomery County, MD</td>\n",
       "      <td>in response to trauma Children of Addicts develop a defensive self - one that decreases vulnerability. (3</td>\n",
       "      <td>0</td>\n",
       "    </tr>\n",
       "  </tbody>\n",
       "</table>\n",
       "</div>"
      ],
      "text/plain": [
       "        id      keyword               location  \\\n",
       "2644  3796  destruction                    NaN   \n",
       "2227  3185       deluge                    NaN   \n",
       "5448  7769       police                     UK   \n",
       "132    191   aftershock                    NaN   \n",
       "6845  9810       trauma  Montgomery County, MD   \n",
       "\n",
       "                                                                                                                               text  \\\n",
       "2644                                                             So you have a new weapon that can cause un-imaginable destruction.   \n",
       "2227        The f$&amp;@ing things I do for #GISHWHES Just got soaked in a deluge going for pads and tampons. Thx @mishacollins @/@   \n",
       "5448  DT @georgegalloway: RT @Galloway4Mayor: ÛÏThe CoL police can catch a pickpocket in Liverpool Stree... http://t.co/vXIn1gOq4Q   \n",
       "132              Aftershock back to school kick off was great. I want to thank everyone for making it possible. What a great night.   \n",
       "6845                      in response to trauma Children of Addicts develop a defensive self - one that decreases vulnerability. (3   \n",
       "\n",
       "      target  \n",
       "2644       1  \n",
       "2227       0  \n",
       "5448       1  \n",
       "132        0  \n",
       "6845       0  "
      ]
     },
     "execution_count": 4,
     "metadata": {},
     "output_type": "execute_result"
    }
   ],
   "source": [
    "# Shuffle training dataframe\n",
    "train_df_shuffled = train_df.sample(frac=1, random_state=42) \n",
    "train_df_shuffled.head()"
   ]
  },
  {
   "cell_type": "markdown",
   "id": "6f8b26c3",
   "metadata": {
    "papermill": {
     "duration": 0.009859,
     "end_time": "2024-10-04T18:09:37.853709",
     "exception": false,
     "start_time": "2024-10-04T18:09:37.843850",
     "status": "completed"
    },
    "tags": []
   },
   "source": [
    "let's see the class distribution "
   ]
  },
  {
   "cell_type": "code",
   "execution_count": 5,
   "id": "c249b9aa",
   "metadata": {
    "execution": {
     "iopub.execute_input": "2024-10-04T18:09:37.874700Z",
     "iopub.status.busy": "2024-10-04T18:09:37.874216Z",
     "iopub.status.idle": "2024-10-04T18:09:37.890205Z",
     "shell.execute_reply": "2024-10-04T18:09:37.888971Z"
    },
    "papermill": {
     "duration": 0.029578,
     "end_time": "2024-10-04T18:09:37.892893",
     "exception": false,
     "start_time": "2024-10-04T18:09:37.863315",
     "status": "completed"
    },
    "tags": []
   },
   "outputs": [
    {
     "data": {
      "text/plain": [
       "target\n",
       "0    4342\n",
       "1    3271\n",
       "Name: count, dtype: int64"
      ]
     },
     "execution_count": 5,
     "metadata": {},
     "output_type": "execute_result"
    }
   ],
   "source": [
    "classdis=train_df.target\n",
    "classdis.value_counts()"
   ]
  },
  {
   "cell_type": "markdown",
   "id": "f5ff789a",
   "metadata": {
    "papermill": {
     "duration": 0.009174,
     "end_time": "2024-10-04T18:09:37.911758",
     "exception": false,
     "start_time": "2024-10-04T18:09:37.902584",
     "status": "completed"
    },
    "tags": []
   },
   "source": [
    "we got a good amount of distribution for both classes "
   ]
  },
  {
   "cell_type": "code",
   "execution_count": 6,
   "id": "9fd2e122",
   "metadata": {
    "execution": {
     "iopub.execute_input": "2024-10-04T18:09:37.932916Z",
     "iopub.status.busy": "2024-10-04T18:09:37.932469Z",
     "iopub.status.idle": "2024-10-04T18:09:37.954637Z",
     "shell.execute_reply": "2024-10-04T18:09:37.953317Z"
    },
    "papermill": {
     "duration": 0.036078,
     "end_time": "2024-10-04T18:09:37.957415",
     "exception": false,
     "start_time": "2024-10-04T18:09:37.921337",
     "status": "completed"
    },
    "tags": []
   },
   "outputs": [
    {
     "data": {
      "text/html": [
       "<div>\n",
       "<style scoped>\n",
       "    .dataframe tbody tr th:only-of-type {\n",
       "        vertical-align: middle;\n",
       "    }\n",
       "\n",
       "    .dataframe tbody tr th {\n",
       "        vertical-align: top;\n",
       "    }\n",
       "\n",
       "    .dataframe thead th {\n",
       "        text-align: right;\n",
       "    }\n",
       "</style>\n",
       "<table border=\"1\" class=\"dataframe\">\n",
       "  <thead>\n",
       "    <tr style=\"text-align: right;\">\n",
       "      <th></th>\n",
       "      <th>id</th>\n",
       "      <th>target</th>\n",
       "    </tr>\n",
       "  </thead>\n",
       "  <tbody>\n",
       "    <tr>\n",
       "      <th>count</th>\n",
       "      <td>7613.000000</td>\n",
       "      <td>7613.00000</td>\n",
       "    </tr>\n",
       "    <tr>\n",
       "      <th>mean</th>\n",
       "      <td>5441.934848</td>\n",
       "      <td>0.42966</td>\n",
       "    </tr>\n",
       "    <tr>\n",
       "      <th>std</th>\n",
       "      <td>3137.116090</td>\n",
       "      <td>0.49506</td>\n",
       "    </tr>\n",
       "    <tr>\n",
       "      <th>min</th>\n",
       "      <td>1.000000</td>\n",
       "      <td>0.00000</td>\n",
       "    </tr>\n",
       "    <tr>\n",
       "      <th>25%</th>\n",
       "      <td>2734.000000</td>\n",
       "      <td>0.00000</td>\n",
       "    </tr>\n",
       "    <tr>\n",
       "      <th>50%</th>\n",
       "      <td>5408.000000</td>\n",
       "      <td>0.00000</td>\n",
       "    </tr>\n",
       "    <tr>\n",
       "      <th>75%</th>\n",
       "      <td>8146.000000</td>\n",
       "      <td>1.00000</td>\n",
       "    </tr>\n",
       "    <tr>\n",
       "      <th>max</th>\n",
       "      <td>10873.000000</td>\n",
       "      <td>1.00000</td>\n",
       "    </tr>\n",
       "  </tbody>\n",
       "</table>\n",
       "</div>"
      ],
      "text/plain": [
       "                 id      target\n",
       "count   7613.000000  7613.00000\n",
       "mean    5441.934848     0.42966\n",
       "std     3137.116090     0.49506\n",
       "min        1.000000     0.00000\n",
       "25%     2734.000000     0.00000\n",
       "50%     5408.000000     0.00000\n",
       "75%     8146.000000     1.00000\n",
       "max    10873.000000     1.00000"
      ]
     },
     "execution_count": 6,
     "metadata": {},
     "output_type": "execute_result"
    }
   ],
   "source": [
    "train_df.describe()"
   ]
  },
  {
   "cell_type": "markdown",
   "id": "efff285e",
   "metadata": {
    "papermill": {
     "duration": 0.009532,
     "end_time": "2024-10-04T18:09:37.976988",
     "exception": false,
     "start_time": "2024-10-04T18:09:37.967456",
     "status": "completed"
    },
    "tags": []
   },
   "source": [
    "lets return some characteristics of text length for all the rows using anonymous(lambda) fuction "
   ]
  },
  {
   "cell_type": "code",
   "execution_count": 7,
   "id": "5aadfb82",
   "metadata": {
    "execution": {
     "iopub.execute_input": "2024-10-04T18:09:37.998722Z",
     "iopub.status.busy": "2024-10-04T18:09:37.998275Z",
     "iopub.status.idle": "2024-10-04T18:09:38.023503Z",
     "shell.execute_reply": "2024-10-04T18:09:38.022230Z"
    },
    "papermill": {
     "duration": 0.039432,
     "end_time": "2024-10-04T18:09:38.026290",
     "exception": false,
     "start_time": "2024-10-04T18:09:37.986858",
     "status": "completed"
    },
    "tags": []
   },
   "outputs": [
    {
     "name": "stdout",
     "output_type": "stream",
     "text": [
      "training data characteristics\n",
      "count    7613.000000\n",
      "mean      101.037436\n",
      "std        33.781325\n",
      "min         7.000000\n",
      "25%        78.000000\n",
      "50%       107.000000\n",
      "75%       133.000000\n",
      "max       157.000000\n",
      "Name: length, dtype: float64\n",
      "testing data characteristics\n",
      "count    3263.000000\n",
      "mean      102.108183\n",
      "std        33.972158\n",
      "min         5.000000\n",
      "25%        78.000000\n",
      "50%       109.000000\n",
      "75%       134.000000\n",
      "max       151.000000\n",
      "Name: length, dtype: float64\n"
     ]
    }
   ],
   "source": [
    "train_df[\"length\"]= train_df[\"text\"].apply(lambda x:len(x))\n",
    "test_df[\"length\"]=test_df[\"text\"].apply(lambda x:len(x))\\\n",
    "\n",
    "print(\"training data characteristics\")\n",
    "print(train_df[\"length\"].describe())\n",
    "\n",
    "print(\"testing data characteristics\")\n",
    "print(test_df[\"length\"].describe())\n",
    "\n"
   ]
  },
  {
   "cell_type": "markdown",
   "id": "e5757276",
   "metadata": {
    "papermill": {
     "duration": 0.009707,
     "end_time": "2024-10-04T18:09:38.046112",
     "exception": false,
     "start_time": "2024-10-04T18:09:38.036405",
     "status": "completed"
    },
    "tags": []
   },
   "source": [
    "let's look at some random training examples"
   ]
  },
  {
   "cell_type": "code",
   "execution_count": 8,
   "id": "ac9cbd6b",
   "metadata": {
    "execution": {
     "iopub.execute_input": "2024-10-04T18:09:38.069157Z",
     "iopub.status.busy": "2024-10-04T18:09:38.068261Z",
     "iopub.status.idle": "2024-10-04T18:09:38.075477Z",
     "shell.execute_reply": "2024-10-04T18:09:38.074375Z"
    },
    "papermill": {
     "duration": 0.022789,
     "end_time": "2024-10-04T18:09:38.078913",
     "exception": false,
     "start_time": "2024-10-04T18:09:38.056124",
     "status": "completed"
    },
    "tags": []
   },
   "outputs": [
    {
     "name": "stdout",
     "output_type": "stream",
     "text": [
      "Text:7603     Officials say a quarantine is in place at an Alabama home over a possible Ebola case after developing symptoms... http://t.co/rqKK15uhEY\n",
      "7604     #WorldNews Fallen powerlines on G:link tram: UPDATE: FIRE crews have evacuated up to 30 passengers who were tr... http://t.co/EYSVvzA7Qm\n",
      "7605                           on the flip side I'm at Walmart and there is a bomb and everyone had to evacuate so stay tuned if I blow up or not\n",
      "7606                    Suicide bomber kills 15 in Saudi security site mosque - Reuters via World - Google News - Wall ... http://t.co/nF4IculOje\n",
      "7607       #stormchase Violent Record Breaking EF-5 El Reno Oklahoma Tornado Nearly Runs Over ... - http://t.co/3SICroAaNz http://t.co/I27Oa0HISp\n",
      "7608                                                          Two giant cranes holding a bridge collapse into nearby homes http://t.co/STfMbbZFB5\n",
      "7609                @aria_ahrary @TheTawniest The out of control wild fires in California even in the Northern part of the state. Very troubling.\n",
      "7610                                                                            M1.94 [01:04 UTC]?5km S of Volcano Hawaii. http://t.co/zDtoyd8EbJ\n",
      "7611    Police investigating after an e-bike collided with a car in Little Portugal. E-bike rider suffered serious non-life threatening injuries.\n",
      "7612                                               The Latest: More Homes Razed by Northern California Wildfire - ABC News http://t.co/YmY4rSkQ3d\n",
      "Name: text, dtype: object Target:7603    1\n",
      "7604    1\n",
      "7605    1\n",
      "7606    1\n",
      "7607    1\n",
      "7608    1\n",
      "7609    1\n",
      "7610    1\n",
      "7611    1\n",
      "7612    1\n",
      "Name: target, dtype: int64\n"
     ]
    }
   ],
   "source": [
    "print(f\"Text:{train_df['text'].tail(10)}\",f\"Target:{train_df['target'].tail(10)}\")"
   ]
  },
  {
   "cell_type": "markdown",
   "id": "6189a58a",
   "metadata": {
    "papermill": {
     "duration": 0.009999,
     "end_time": "2024-10-04T18:09:38.099203",
     "exception": false,
     "start_time": "2024-10-04T18:09:38.089204",
     "status": "completed"
    },
    "tags": []
   },
   "source": [
    "**split data into training and validation set**\n",
    "so we can check our model performance while training on training set and as test set doesn't have labels thus we need to make a vallidation set\n"
   ]
  },
  {
   "cell_type": "code",
   "execution_count": 9,
   "id": "9d9015e2",
   "metadata": {
    "execution": {
     "iopub.execute_input": "2024-10-04T18:09:38.121988Z",
     "iopub.status.busy": "2024-10-04T18:09:38.121526Z",
     "iopub.status.idle": "2024-10-04T18:09:39.669613Z",
     "shell.execute_reply": "2024-10-04T18:09:39.668352Z"
    },
    "papermill": {
     "duration": 1.563037,
     "end_time": "2024-10-04T18:09:39.672636",
     "exception": false,
     "start_time": "2024-10-04T18:09:38.109599",
     "status": "completed"
    },
    "tags": []
   },
   "outputs": [],
   "source": [
    "from sklearn.model_selection import train_test_split \n",
    "train_sentences, val_sentences, train_labels, val_labels = train_test_split(train_df_shuffled[\"text\"].to_numpy(),\n",
    "                                                                            train_df_shuffled[\"target\"].to_numpy(),\n",
    "                                                                            test_size=0.1, \n",
    "                                                                            random_state=42)\n",
    "   "
   ]
  },
  {
   "cell_type": "code",
   "execution_count": 10,
   "id": "bf257ea5",
   "metadata": {
    "execution": {
     "iopub.execute_input": "2024-10-04T18:09:39.695396Z",
     "iopub.status.busy": "2024-10-04T18:09:39.694744Z",
     "iopub.status.idle": "2024-10-04T18:09:39.703044Z",
     "shell.execute_reply": "2024-10-04T18:09:39.701937Z"
    },
    "papermill": {
     "duration": 0.022591,
     "end_time": "2024-10-04T18:09:39.705506",
     "exception": false,
     "start_time": "2024-10-04T18:09:39.682915",
     "status": "completed"
    },
    "tags": []
   },
   "outputs": [
    {
     "data": {
      "text/plain": [
       "(6851, 762)"
      ]
     },
     "execution_count": 10,
     "metadata": {},
     "output_type": "execute_result"
    }
   ],
   "source": [
    "len(train_sentences),len(val_labels)"
   ]
  },
  {
   "cell_type": "markdown",
   "id": "b3ccf6dd",
   "metadata": {
    "papermill": {
     "duration": 0.010006,
     "end_time": "2024-10-04T18:09:39.725852",
     "exception": false,
     "start_time": "2024-10-04T18:09:39.715846",
     "status": "completed"
    },
    "tags": []
   },
   "source": [
    "# Data preprocessing- Converting text into numbers\n",
    "When dealing with a text problem, one of the first things you'll have to do before you can build a model is to convert your text to numbers.\n",
    "\n",
    "There are a few ways to do this, namely:\n",
    "\n",
    "Tokenziation - direct mapping of token (a token could be a word or a character) to number\n",
    "Embedding - create a matrix of feature vector for each token (the size of the feature vector can be defined and this embedding can be learned)"
   ]
  },
  {
   "cell_type": "markdown",
   "id": "d1562bf5",
   "metadata": {
    "papermill": {
     "duration": 0.010348,
     "end_time": "2024-10-04T18:09:39.746514",
     "exception": false,
     "start_time": "2024-10-04T18:09:39.736166",
     "status": "completed"
    },
    "tags": []
   },
   "source": [
    "**Text vectorization**"
   ]
  },
  {
   "cell_type": "code",
   "execution_count": 11,
   "id": "605678e9",
   "metadata": {
    "execution": {
     "iopub.execute_input": "2024-10-04T18:09:39.770274Z",
     "iopub.status.busy": "2024-10-04T18:09:39.769788Z",
     "iopub.status.idle": "2024-10-04T18:09:54.504630Z",
     "shell.execute_reply": "2024-10-04T18:09:54.503409Z"
    },
    "papermill": {
     "duration": 14.750071,
     "end_time": "2024-10-04T18:09:54.507461",
     "exception": false,
     "start_time": "2024-10-04T18:09:39.757390",
     "status": "completed"
    },
    "tags": []
   },
   "outputs": [],
   "source": [
    "import tensorflow as tf\n",
    "from tensorflow.keras.layers import TextVectorization\n",
    "\n",
    "# Initialize the TextVectorization layer with corrected parameters\n",
    "text_vectorizer = TextVectorization(\n",
    "    max_tokens=None,  # Maximum size of the vocabulary (None means no limit)\n",
    "    standardize=\"lower_and_strip_punctuation\",  # Standardization method as a string\n",
    "    split=\"whitespace\",  # Tokenize based on whitespace\n",
    "    ngrams=None,  # No n-gram creation\n",
    "    output_mode=\"int\",  # Map tokens to integers\n",
    "    output_sequence_length=None  # Length of the output sequences (None means variable length)\n",
    ")\n"
   ]
  },
  {
   "cell_type": "markdown",
   "id": "267e3d96",
   "metadata": {
    "papermill": {
     "duration": 0.010023,
     "end_time": "2024-10-04T18:09:54.528185",
     "exception": false,
     "start_time": "2024-10-04T18:09:54.518162",
     "status": "completed"
    },
    "tags": []
   },
   "source": [
    "It's often beneficial to set this to a specific number (e.g., max_tokens=10000) to limit the vocabulary size, which can help with model performance and prevent overfitting."
   ]
  },
  {
   "cell_type": "code",
   "execution_count": 12,
   "id": "74eb5b8d",
   "metadata": {
    "execution": {
     "iopub.execute_input": "2024-10-04T18:09:54.551193Z",
     "iopub.status.busy": "2024-10-04T18:09:54.550387Z",
     "iopub.status.idle": "2024-10-04T18:09:54.563439Z",
     "shell.execute_reply": "2024-10-04T18:09:54.562233Z"
    },
    "papermill": {
     "duration": 0.027687,
     "end_time": "2024-10-04T18:09:54.566193",
     "exception": false,
     "start_time": "2024-10-04T18:09:54.538506",
     "status": "completed"
    },
    "tags": []
   },
   "outputs": [],
   "source": [
    "# Setup text vectorization variables\n",
    "max_vocab_length = 10000 # max number of words to have in our vocabulary\n",
    "max_length = 15 # max length our sequences will be (e.g. how many words from a Tweet does a model see?)\n",
    "\n",
    "text_vectorizer = TextVectorization(max_tokens=max_vocab_length,\n",
    "                                    output_mode=\"int\",\n",
    "                                    output_sequence_length=max_length)\n",
    "     "
   ]
  },
  {
   "cell_type": "code",
   "execution_count": 13,
   "id": "682657ff",
   "metadata": {
    "execution": {
     "iopub.execute_input": "2024-10-04T18:09:54.588721Z",
     "iopub.status.busy": "2024-10-04T18:09:54.588256Z",
     "iopub.status.idle": "2024-10-04T18:09:54.761102Z",
     "shell.execute_reply": "2024-10-04T18:09:54.759765Z"
    },
    "papermill": {
     "duration": 0.187414,
     "end_time": "2024-10-04T18:09:54.763877",
     "exception": false,
     "start_time": "2024-10-04T18:09:54.576463",
     "status": "completed"
    },
    "tags": []
   },
   "outputs": [],
   "source": [
    "# Fit the text vectorizer instance to the training data using the adapt() method\n",
    "text_vectorizer.adapt(train_sentences)"
   ]
  },
  {
   "cell_type": "code",
   "execution_count": 14,
   "id": "d4d2da95",
   "metadata": {
    "execution": {
     "iopub.execute_input": "2024-10-04T18:09:54.787300Z",
     "iopub.status.busy": "2024-10-04T18:09:54.786397Z",
     "iopub.status.idle": "2024-10-04T18:09:54.826097Z",
     "shell.execute_reply": "2024-10-04T18:09:54.824696Z"
    },
    "papermill": {
     "duration": 0.054184,
     "end_time": "2024-10-04T18:09:54.828618",
     "exception": false,
     "start_time": "2024-10-04T18:09:54.774434",
     "status": "completed"
    },
    "tags": []
   },
   "outputs": [
    {
     "name": "stdout",
     "output_type": "stream",
     "text": [
      "Original text:\n",
      "Strawberries are in big trouble. Scientists race to find solution. http://t.co/MqydXRLae7 http://t.co/EpJjkB4Be9        \n",
      "\n",
      "Vectorized version:\n"
     ]
    },
    {
     "data": {
      "text/plain": [
       "<tf.Tensor: shape=(1, 15), dtype=int64, numpy=\n",
       "array([[8035,   22,    4,  335,  495, 2717, 2768,    5,  653, 2290,    1,\n",
       "           1,    0,    0,    0]])>"
      ]
     },
     "execution_count": 14,
     "metadata": {},
     "output_type": "execute_result"
    }
   ],
   "source": [
    "import random\n",
    "# Choose a random sentence every time u run from the training dataset and tokenize it\n",
    "random_sentence = random.choice(train_sentences)\n",
    "print(f\"Original text:\\n{random_sentence}\\\n",
    "        \\n\\nVectorized version:\")\n",
    "text_vectorizer([random_sentence])"
   ]
  },
  {
   "cell_type": "code",
   "execution_count": 15,
   "id": "86b554e7",
   "metadata": {
    "execution": {
     "iopub.execute_input": "2024-10-04T18:09:54.852368Z",
     "iopub.status.busy": "2024-10-04T18:09:54.851180Z",
     "iopub.status.idle": "2024-10-04T18:09:54.907739Z",
     "shell.execute_reply": "2024-10-04T18:09:54.906365Z"
    },
    "papermill": {
     "duration": 0.071174,
     "end_time": "2024-10-04T18:09:54.910375",
     "exception": false,
     "start_time": "2024-10-04T18:09:54.839201",
     "status": "completed"
    },
    "tags": []
   },
   "outputs": [
    {
     "name": "stdout",
     "output_type": "stream",
     "text": [
      "Most common words in vocab: ['', '[UNK]', 'the', 'a', 'in', 'to', 'of', 'and', 'i', 'is']\n",
      "Least common words in vocab: ['painthey', 'painful', 'paine', 'paging', 'pageshi', 'pages', 'paeds', 'pads', 'padres', 'paddytomlinson1']\n"
     ]
    }
   ],
   "source": [
    "# Get the unique words in the vocabulary\n",
    "words_in_vocab = text_vectorizer.get_vocabulary()\n",
    "top_10_words = words_in_vocab[:10] # the most common words in the vocab\n",
    "bottom_10_words = words_in_vocab[-10:] # the least common words in the vocab\n",
    "print(f\"Most common words in vocab: {top_10_words}\")\n",
    "print(f\"Least common words in vocab: {bottom_10_words}\")"
   ]
  },
  {
   "cell_type": "code",
   "execution_count": null,
   "id": "4842f480",
   "metadata": {
    "papermill": {
     "duration": 0.010429,
     "end_time": "2024-10-04T18:09:54.931635",
     "exception": false,
     "start_time": "2024-10-04T18:09:54.921206",
     "status": "completed"
    },
    "tags": []
   },
   "outputs": [],
   "source": []
  }
 ],
 "metadata": {
  "kaggle": {
   "accelerator": "none",
   "dataSources": [
    {
     "databundleVersionId": 869809,
     "sourceId": 17777,
     "sourceType": "competition"
    }
   ],
   "dockerImageVersionId": 30775,
   "isGpuEnabled": false,
   "isInternetEnabled": true,
   "language": "python",
   "sourceType": "notebook"
  },
  "kernelspec": {
   "display_name": "Python 3",
   "language": "python",
   "name": "python3"
  },
  "language_info": {
   "codemirror_mode": {
    "name": "ipython",
    "version": 3
   },
   "file_extension": ".py",
   "mimetype": "text/x-python",
   "name": "python",
   "nbconvert_exporter": "python",
   "pygments_lexer": "ipython3",
   "version": "3.10.14"
  },
  "papermill": {
   "default_parameters": {},
   "duration": 23.110767,
   "end_time": "2024-10-04T18:09:56.468331",
   "environment_variables": {},
   "exception": null,
   "input_path": "__notebook__.ipynb",
   "output_path": "__notebook__.ipynb",
   "parameters": {},
   "start_time": "2024-10-04T18:09:33.357564",
   "version": "2.6.0"
  }
 },
 "nbformat": 4,
 "nbformat_minor": 5
}
